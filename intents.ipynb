{
  "nbformat": 4,
  "nbformat_minor": 0,
  "metadata": {
    "colab": {
      "name": "intents.ipynb",
      "provenance": [],
      "collapsed_sections": [],
      "authorship_tag": "ABX9TyO8gY8Vx+Vxp6ZWXObWOfCR",
      "include_colab_link": true
    },
    "kernelspec": {
      "name": "python3",
      "display_name": "Python 3"
    },
    "language_info": {
      "name": "python"
    }
  },
  "cells": [
    {
      "cell_type": "markdown",
      "metadata": {
        "id": "view-in-github",
        "colab_type": "text"
      },
      "source": [
        "<a href=\"https://colab.research.google.com/github/ManvirSin/AI-Python/blob/main/intents.ipynb\" target=\"_parent\"><img src=\"https://colab.research.google.com/assets/colab-badge.svg\" alt=\"Open In Colab\"/></a>"
      ]
    },
    {
      "cell_type": "code",
      "metadata": {
        "colab": {
          "base_uri": "https://localhost:8080/",
          "height": 130
        },
        "id": "AeXJK2amwlFL",
        "outputId": "5ad9bd31-9bca-4d9f-b040-bf4fdbcf9ff9"
      },
      "source": [
        "{{\"intents\": [\n",
        "  {\"tag\": \"greetings\",\n",
        "    \"pattern\": [\"hello\", \"hey\", \"hi\", \"Good Day\"],\n",
        "    \"responses\": [\"Hey\", \"hello\", \"What can I do for you\"]}\n",
        "  },\n",
        "  {\"tag\": \"goodbye\",\n",
        "    \"pattern\": [\"cya\", \"See you later\", \"Goodbye\", \"I am Leaving\", \"bye\"],\n",
        "    \"responses\": [\"Goodbye\", \"Program Terminated\"]\n",
        "  },\n",
        "  {\"tag\": \"age\",\n",
        "    \"pattern\": [\"I am\", \" years old\",],\n",
        "    \"responses\": [\"How old are you?\", \"What is your age?\", \"\"]\n",
        "  },\n",
        "  {\"tag\": \"Shutdown\",\n",
        "    \"pattern\": [\"Shutdown\", \"turn off\", 'shutdown']\n",
        "    \"responses\": [\"Computer Shutting Down\"]\n",
        "  }\n",
        "  ]}"
      ],
      "execution_count": 1,
      "outputs": [
        {
          "output_type": "error",
          "ename": "SyntaxError",
          "evalue": "ignored",
          "traceback": [
            "\u001b[0;36m  File \u001b[0;32m\"<ipython-input-1-3e29d69d552d>\"\u001b[0;36m, line \u001b[0;32m5\u001b[0m\n\u001b[0;31m    },\u001b[0m\n\u001b[0m    ^\u001b[0m\n\u001b[0;31mSyntaxError\u001b[0m\u001b[0;31m:\u001b[0m invalid syntax\n"
          ]
        }
      ]
    }
  ]
}